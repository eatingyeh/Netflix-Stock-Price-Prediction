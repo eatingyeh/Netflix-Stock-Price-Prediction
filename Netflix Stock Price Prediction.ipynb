{
 "cells": [
  {
   "cell_type": "code",
   "execution_count": 1,
   "id": "immediate-azerbaijan",
   "metadata": {},
   "outputs": [],
   "source": [
    "import os\n",
    "import pandas as pd\n",
    "import numpy as np\n",
    "from sklearn.preprocessing import StandardScaler, LabelEncoder\n",
    "from sklearn.neighbors import KNeighborsClassifier\n",
    "from sklearn.metrics import confusion_matrix\n",
    "from sklearn.linear_model import LogisticRegression\n",
    "from sklearn.naive_bayes import GaussianNB\n",
    "from sklearn import tree\n",
    "from sklearn.ensemble import RandomForestClassifier"
   ]
  },
  {
   "cell_type": "markdown",
   "id": "satellite-vinyl",
   "metadata": {},
   "source": [
    "## Load Data"
   ]
  },
  {
   "cell_type": "code",
   "execution_count": 2,
   "id": "junior-semester",
   "metadata": {},
   "outputs": [],
   "source": [
    "#Read files into dataframe by using pandas\n",
    "def open_file(ticker):\n",
    "    input_dir = r'./'\n",
    "    try:\n",
    "        #use pandas to create dataframe\n",
    "        df = pd.read_csv(os.path.join(input_dir, ticker + '.csv'))\n",
    "        return df\n",
    "    \n",
    "    except Exception as e:\n",
    "        print(e)\n",
    "        print('failed to read stock data for ticker: ', ticker)\n",
    "\n",
    "#Create a Netflix volatility dataframe\n",
    "NFLX_df = open_file(\"NFLX_weekly_return_volatility\")"
   ]
  },
  {
   "cell_type": "code",
   "execution_count": 3,
   "id": "hindu-weapon",
   "metadata": {},
   "outputs": [],
   "source": [
    "#create new dataframes for each of year 2018 and 2019\n",
    "NFLX_df_train = NFLX_df[NFLX_df['Year'] < 2018]\n",
    "NFLX_df_train.reset_index(inplace=True)\n",
    "\n",
    "NFLX_df_test = NFLX_df[NFLX_df['Year'] >= 2018]\n",
    "NFLX_df_test.reset_index(inplace=True)"
   ]
  },
  {
   "cell_type": "code",
   "execution_count": 4,
   "id": "acting-service",
   "metadata": {},
   "outputs": [],
   "source": [
    "#feature scaling\n",
    "X_train = NFLX_df_train[['mean_return', 'volatility']].values\n",
    "Y_train = NFLX_df_train['Labels'].values\n",
    "scaler = StandardScaler().fit(X_train)\n",
    "X_train = scaler.transform(X_train)\n",
    "\n",
    "X_test = NFLX_df_test[['mean_return', 'volatility']].values\n",
    "Y_test = NFLX_df_test['Labels'].values\n",
    "X_test = scaler.transform(X_test)"
   ]
  },
  {
   "cell_type": "markdown",
   "id": "private-auction",
   "metadata": {},
   "source": [
    "## KNN"
   ]
  },
  {
   "cell_type": "code",
   "execution_count": 5,
   "id": "greek-literature",
   "metadata": {},
   "outputs": [
    {
     "name": "stdout",
     "output_type": "stream",
     "text": [
      "Accuracy by KNN(k=3): 0.9811320754716981\n"
     ]
    }
   ],
   "source": [
    "#initiate model\n",
    "knn_classifier = KNeighborsClassifier(n_neighbors=3)\n",
    "knn_classifier.fit(X_train, Y_train)\n",
    "\n",
    "#accuracy\n",
    "accuracy_knn = knn_classifier.score(X_test, Y_test)\n",
    "print('Accuracy by KNN(k=3):', accuracy_knn)"
   ]
  },
  {
   "cell_type": "code",
   "execution_count": 6,
   "id": "assigned-competition",
   "metadata": {},
   "outputs": [
    {
     "name": "stdout",
     "output_type": "stream",
     "text": [
      "Confusion Matrix for KNN(k=3):\n",
      " [[47  1]\n",
      " [ 1 57]]\n",
      "True positive rate: 0.9791666666666666\n",
      "True negative rate: 0.9827586206896551\n"
     ]
    }
   ],
   "source": [
    "#predict labels and confusion matrix\n",
    "predicted_knn = knn_classifier.predict(X_test)\n",
    "confusion_matrix_knn = confusion_matrix(Y_test, predicted_knn)\n",
    "TPR_knn = confusion_matrix_knn[0][0]/float(np.sum(confusion_matrix_knn[0, :]))\n",
    "TNR_knn = confusion_matrix_knn[1][1]/float(np.sum(confusion_matrix_knn[1, :]))\n",
    "\n",
    "print('Confusion Matrix for KNN(k=3):\\n', confusion_matrix_knn)\n",
    "print('True positive rate:', TPR_knn)\n",
    "print('True negative rate:', TNR_knn)"
   ]
  },
  {
   "cell_type": "markdown",
   "id": "capable-survey",
   "metadata": {},
   "source": [
    "## Logistic Regression"
   ]
  },
  {
   "cell_type": "code",
   "execution_count": 7,
   "id": "asian-karaoke",
   "metadata": {},
   "outputs": [
    {
     "name": "stdout",
     "output_type": "stream",
     "text": [
      "The equation for logistic regression: y = -2.176569371267914 + 1.903141392998164 *x1\n",
      "Accuracy by Logistic Regression: 0.8490566037735849\n"
     ]
    }
   ],
   "source": [
    "#initiate model\n",
    "log_reg_classifier = LogisticRegression()\n",
    "log_reg_classifier.fit(X_train, Y_train)\n",
    "print('The equation for logistic regression: y =', log_reg_classifier.coef_[0][0], '+', log_reg_classifier.coef_[0][1], '*x1')\n",
    "\n",
    "#accuracy\n",
    "accuracy_LR = log_reg_classifier.score(X_test, Y_test)\n",
    "print('Accuracy by Logistic Regression:', accuracy_LR)"
   ]
  },
  {
   "cell_type": "code",
   "execution_count": 8,
   "id": "rental-mumbai",
   "metadata": {},
   "outputs": [
    {
     "name": "stdout",
     "output_type": "stream",
     "text": [
      "Confusion Matrix for Logistic Regression:\n",
      " [[47  1]\n",
      " [ 1 57]]\n",
      "True positive rate: 0.9791666666666666\n",
      "True negative rate: 0.9827586206896551\n"
     ]
    }
   ],
   "source": [
    "#predict labels and confusion matrix\n",
    "predicted_LR = knn_classifier.predict(X_test)\n",
    "confusion_matrix_LR = confusion_matrix(Y_test, predicted_LR)\n",
    "TPR_LR = confusion_matrix_LR[0][0]/float(np.sum(confusion_matrix_LR[0, :]))\n",
    "TNR_LR = confusion_matrix_LR[1][1]/float(np.sum(confusion_matrix_LR[1, :]))\n",
    "\n",
    "print('Confusion Matrix for Logistic Regression:\\n', confusion_matrix_LR)\n",
    "print('True positive rate:', TPR_LR)\n",
    "print('True negative rate:', TNR_LR)"
   ]
  },
  {
   "cell_type": "markdown",
   "id": "transparent-maria",
   "metadata": {},
   "source": [
    "## Naive Bayesian"
   ]
  },
  {
   "cell_type": "code",
   "execution_count": 9,
   "id": "original-wilson",
   "metadata": {},
   "outputs": [
    {
     "name": "stdout",
     "output_type": "stream",
     "text": [
      "Accuracy by Naive Bayesian: 0.8490566037735849\n"
     ]
    }
   ],
   "source": [
    "NB_classifier = GaussianNB().fit(X_train, Y_train)\n",
    "\n",
    "accuracy_NB = NB_classifier.score(X_test, Y_test)\n",
    "print('Accuracy by Naive Bayesian:', accuracy_NB)"
   ]
  },
  {
   "cell_type": "code",
   "execution_count": 10,
   "id": "expired-inside",
   "metadata": {},
   "outputs": [
    {
     "name": "stdout",
     "output_type": "stream",
     "text": [
      "Confusion Matrix for Naive Bayesian:\n",
      " [[47  1]\n",
      " [ 1 57]]\n",
      "True positive rate: 0.9791666666666666\n",
      "True negative rate: 0.9827586206896551\n"
     ]
    }
   ],
   "source": [
    "#predict labels and confusion matrix\n",
    "predicted_NB = knn_classifier.predict(X_test)\n",
    "confusion_matrix_NB = confusion_matrix(Y_test, predicted_NB)\n",
    "TPR_NB = confusion_matrix_NB[0][0]/float(np.sum(confusion_matrix_NB[0, :]))\n",
    "TNR_NB = confusion_matrix_NB[1][1]/float(np.sum(confusion_matrix_NB[1, :]))\n",
    "\n",
    "print('Confusion Matrix for Naive Bayesian:\\n', confusion_matrix_NB)\n",
    "print('True positive rate:', TPR_NB)\n",
    "print('True negative rate:', TNR_NB)"
   ]
  },
  {
   "cell_type": "markdown",
   "id": "innocent-capability",
   "metadata": {},
   "source": [
    "## Decision Tree"
   ]
  },
  {
   "cell_type": "code",
   "execution_count": 11,
   "id": "compressed-current",
   "metadata": {},
   "outputs": [
    {
     "name": "stdout",
     "output_type": "stream",
     "text": [
      "Accuracy by Decision Tree: 1.0\n"
     ]
    }
   ],
   "source": [
    "tree_classifier = tree.DecisionTreeClassifier(criterion = 'entropy')\n",
    "tree_classifier = tree_classifier.fit(X_train, Y_train)\n",
    "\n",
    "accuracy_tree = tree_classifier.score(X_test, Y_test)\n",
    "print('Accuracy by Decision Tree:', accuracy_tree)"
   ]
  },
  {
   "cell_type": "code",
   "execution_count": 12,
   "id": "boring-helmet",
   "metadata": {},
   "outputs": [
    {
     "name": "stdout",
     "output_type": "stream",
     "text": [
      "Confusion Matrix for Decision Tree:\n",
      " [[47  1]\n",
      " [ 1 57]]\n",
      "True positive rate: 0.9791666666666666\n",
      "True negative rate: 0.9827586206896551\n"
     ]
    }
   ],
   "source": [
    "#predict labels and confusion matrix\n",
    "predicted_tree = knn_classifier.predict(X_test)\n",
    "confusion_matrix_tree = confusion_matrix(Y_test, predicted_tree)\n",
    "TPR_tree = confusion_matrix_tree[0][0]/float(np.sum(confusion_matrix_tree[0, :]))\n",
    "TNR_tree = confusion_matrix_tree[1][1]/float(np.sum(confusion_matrix_tree[1, :]))\n",
    "\n",
    "print('Confusion Matrix for Decision Tree:\\n', confusion_matrix_tree)\n",
    "print('True positive rate:', TPR_tree)\n",
    "print('True negative rate:', TNR_tree)"
   ]
  },
  {
   "cell_type": "markdown",
   "id": "cognitive-detroit",
   "metadata": {},
   "source": [
    "## Random Forest"
   ]
  },
  {
   "cell_type": "code",
   "execution_count": 13,
   "id": "vocal-james",
   "metadata": {},
   "outputs": [
    {
     "name": "stdout",
     "output_type": "stream",
     "text": [
      "Accuracy by Random Forest: 0.9905660377358491\n"
     ]
    }
   ],
   "source": [
    "RF_classifier = RandomForestClassifier(n_estimators=6, max_depth=5, criterion='entropy')\n",
    "RF_classifier.fit(X_train, Y_train)\n",
    "\n",
    "accuracy_RF = RF_classifier.score(X_test, Y_test)\n",
    "print('Accuracy by Random Forest:', accuracy_RF)"
   ]
  },
  {
   "cell_type": "code",
   "execution_count": 14,
   "id": "useful-chaos",
   "metadata": {},
   "outputs": [
    {
     "name": "stdout",
     "output_type": "stream",
     "text": [
      "Confusion Matrix for Random Forest:\n",
      " [[47  1]\n",
      " [ 1 57]]\n",
      "True positive rate: 0.9791666666666666\n",
      "True negative rate: 0.9827586206896551\n"
     ]
    }
   ],
   "source": [
    "#predict labels and confusion matrix\n",
    "predicted_RF = knn_classifier.predict(X_test)\n",
    "confusion_matrix_RF = confusion_matrix(Y_test, predicted_RF)\n",
    "TPR_RF = confusion_matrix_RF[0][0]/float(np.sum(confusion_matrix_RF[0, :]))\n",
    "TNR_RF = confusion_matrix_RF[1][1]/float(np.sum(confusion_matrix_RF[1, :]))\n",
    "\n",
    "print('Confusion Matrix for Random Forest:\\n', confusion_matrix_RF)\n",
    "print('True positive rate:', TPR_RF)\n",
    "print('True negative rate:', TNR_RF)"
   ]
  },
  {
   "cell_type": "code",
   "execution_count": null,
   "id": "approximate-belle",
   "metadata": {},
   "outputs": [],
   "source": []
  }
 ],
 "metadata": {
  "kernelspec": {
   "display_name": "Python 3",
   "language": "python",
   "name": "python3"
  },
  "language_info": {
   "codemirror_mode": {
    "name": "ipython",
    "version": 3
   },
   "file_extension": ".py",
   "mimetype": "text/x-python",
   "name": "python",
   "nbconvert_exporter": "python",
   "pygments_lexer": "ipython3",
   "version": "3.6.4"
  }
 },
 "nbformat": 4,
 "nbformat_minor": 5
}

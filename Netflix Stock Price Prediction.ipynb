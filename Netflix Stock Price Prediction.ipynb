{
 "cells": [
  {
   "cell_type": "code",
   "execution_count": 1,
   "id": "skilled-salvation",
   "metadata": {},
   "outputs": [],
   "source": [
    "import os\n",
    "import pandas as pd\n",
    "import numpy as np\n",
    "from sklearn.preprocessing import StandardScaler, LabelEncoder\n",
    "from sklearn.neighbors import KNeighborsClassifier\n",
    "from sklearn.metrics import confusion_matrix\n",
    "from sklearn.linear_model import LogisticRegression\n",
    "from sklearn.naive_bayes import GaussianNB\n",
    "from sklearn import tree\n",
    "from sklearn.ensemble import RandomForestClassifier"
   ]
  },
  {
   "cell_type": "markdown",
   "id": "standing-malaysia",
   "metadata": {},
   "source": [
    "## Load Data"
   ]
  },
  {
   "cell_type": "code",
   "execution_count": 2,
   "id": "upper-greece",
   "metadata": {},
   "outputs": [],
   "source": [
    "#Read files into dataframe by using pandas\n",
    "def open_file(ticker):\n",
    "    input_dir = r'./'\n",
    "    try:\n",
    "        #use pandas to create dataframe\n",
    "        df = pd.read_csv(os.path.join(input_dir, ticker + '.csv'))\n",
    "        return df\n",
    "    \n",
    "    except Exception as e:\n",
    "        print(e)\n",
    "        print('failed to read stock data for ticker: ', ticker)\n",
    "\n",
    "#Create a Netflix volatility dataframe\n",
    "NFLX_df = open_file(\"NFLX_weekly_return_volatility\")"
   ]
  },
  {
   "cell_type": "code",
   "execution_count": 3,
   "id": "positive-check",
   "metadata": {},
   "outputs": [],
   "source": [
    "#create new dataframes for each of year 2018 and 2019\n",
    "NFLX_df_train = NFLX_df[NFLX_df['Year'] < 2018]\n",
    "NFLX_df_train.reset_index(inplace=True)\n",
    "\n",
    "NFLX_df_test = NFLX_df[NFLX_df['Year'] >= 2018]\n",
    "NFLX_df_test.reset_index(inplace=True)"
   ]
  },
  {
   "cell_type": "code",
   "execution_count": 4,
   "id": "proved-lloyd",
   "metadata": {},
   "outputs": [
    {
     "data": {
      "text/html": [
       "<div>\n",
       "<style scoped>\n",
       "    .dataframe tbody tr th:only-of-type {\n",
       "        vertical-align: middle;\n",
       "    }\n",
       "\n",
       "    .dataframe tbody tr th {\n",
       "        vertical-align: top;\n",
       "    }\n",
       "\n",
       "    .dataframe thead th {\n",
       "        text-align: right;\n",
       "    }\n",
       "</style>\n",
       "<table border=\"1\" class=\"dataframe\">\n",
       "  <thead>\n",
       "    <tr style=\"text-align: right;\">\n",
       "      <th></th>\n",
       "      <th>index</th>\n",
       "      <th>Year</th>\n",
       "      <th>Week_Number</th>\n",
       "      <th>Open_week</th>\n",
       "      <th>Close_week</th>\n",
       "      <th>mean_return</th>\n",
       "      <th>volatility</th>\n",
       "      <th>Labels</th>\n",
       "    </tr>\n",
       "  </thead>\n",
       "  <tbody>\n",
       "    <tr>\n",
       "      <th>0</th>\n",
       "      <td>0</td>\n",
       "      <td>2015</td>\n",
       "      <td>0</td>\n",
       "      <td>49.151428</td>\n",
       "      <td>49.848572</td>\n",
       "      <td>0.0000</td>\n",
       "      <td>0.000000</td>\n",
       "      <td>red</td>\n",
       "    </tr>\n",
       "    <tr>\n",
       "      <th>1</th>\n",
       "      <td>1</td>\n",
       "      <td>2015</td>\n",
       "      <td>1</td>\n",
       "      <td>49.258572</td>\n",
       "      <td>47.041428</td>\n",
       "      <td>-1.1220</td>\n",
       "      <td>2.744452</td>\n",
       "      <td>red</td>\n",
       "    </tr>\n",
       "    <tr>\n",
       "      <th>2</th>\n",
       "      <td>2</td>\n",
       "      <td>2015</td>\n",
       "      <td>2</td>\n",
       "      <td>47.090000</td>\n",
       "      <td>48.191429</td>\n",
       "      <td>0.5128</td>\n",
       "      <td>2.684702</td>\n",
       "      <td>green</td>\n",
       "    </tr>\n",
       "    <tr>\n",
       "      <th>3</th>\n",
       "      <td>3</td>\n",
       "      <td>2015</td>\n",
       "      <td>3</td>\n",
       "      <td>48.571430</td>\n",
       "      <td>62.494286</td>\n",
       "      <td>6.8805</td>\n",
       "      <td>7.051198</td>\n",
       "      <td>red</td>\n",
       "    </tr>\n",
       "    <tr>\n",
       "      <th>4</th>\n",
       "      <td>4</td>\n",
       "      <td>2015</td>\n",
       "      <td>4</td>\n",
       "      <td>62.571430</td>\n",
       "      <td>63.114285</td>\n",
       "      <td>0.2116</td>\n",
       "      <td>1.867313</td>\n",
       "      <td>green</td>\n",
       "    </tr>\n",
       "  </tbody>\n",
       "</table>\n",
       "</div>"
      ],
      "text/plain": [
       "   index  Year  Week_Number  Open_week  Close_week  mean_return  volatility  \\\n",
       "0      0  2015            0  49.151428   49.848572       0.0000    0.000000   \n",
       "1      1  2015            1  49.258572   47.041428      -1.1220    2.744452   \n",
       "2      2  2015            2  47.090000   48.191429       0.5128    2.684702   \n",
       "3      3  2015            3  48.571430   62.494286       6.8805    7.051198   \n",
       "4      4  2015            4  62.571430   63.114285       0.2116    1.867313   \n",
       "\n",
       "  Labels  \n",
       "0    red  \n",
       "1    red  \n",
       "2  green  \n",
       "3    red  \n",
       "4  green  "
      ]
     },
     "execution_count": 4,
     "metadata": {},
     "output_type": "execute_result"
    }
   ],
   "source": [
    "NFLX_df_train.head(5)"
   ]
  },
  {
   "cell_type": "code",
   "execution_count": 5,
   "id": "decimal-machinery",
   "metadata": {},
   "outputs": [
    {
     "data": {
      "text/html": [
       "<div>\n",
       "<style scoped>\n",
       "    .dataframe tbody tr th:only-of-type {\n",
       "        vertical-align: middle;\n",
       "    }\n",
       "\n",
       "    .dataframe tbody tr th {\n",
       "        vertical-align: top;\n",
       "    }\n",
       "\n",
       "    .dataframe thead th {\n",
       "        text-align: right;\n",
       "    }\n",
       "</style>\n",
       "<table border=\"1\" class=\"dataframe\">\n",
       "  <thead>\n",
       "    <tr style=\"text-align: right;\">\n",
       "      <th></th>\n",
       "      <th>index</th>\n",
       "      <th>Year</th>\n",
       "      <th>Week_Number</th>\n",
       "      <th>Open_week</th>\n",
       "      <th>Close_week</th>\n",
       "      <th>mean_return</th>\n",
       "      <th>volatility</th>\n",
       "      <th>Labels</th>\n",
       "    </tr>\n",
       "  </thead>\n",
       "  <tbody>\n",
       "    <tr>\n",
       "      <th>0</th>\n",
       "      <td>157</td>\n",
       "      <td>2018</td>\n",
       "      <td>0</td>\n",
       "      <td>196.100006</td>\n",
       "      <td>209.990006</td>\n",
       "      <td>2.28200</td>\n",
       "      <td>1.842584</td>\n",
       "      <td>green</td>\n",
       "    </tr>\n",
       "    <tr>\n",
       "      <th>1</th>\n",
       "      <td>158</td>\n",
       "      <td>2018</td>\n",
       "      <td>1</td>\n",
       "      <td>210.020004</td>\n",
       "      <td>221.229996</td>\n",
       "      <td>1.05620</td>\n",
       "      <td>1.388740</td>\n",
       "      <td>green</td>\n",
       "    </tr>\n",
       "    <tr>\n",
       "      <th>2</th>\n",
       "      <td>159</td>\n",
       "      <td>2018</td>\n",
       "      <td>2</td>\n",
       "      <td>224.240006</td>\n",
       "      <td>220.460007</td>\n",
       "      <td>-0.08075</td>\n",
       "      <td>1.290640</td>\n",
       "      <td>red</td>\n",
       "    </tr>\n",
       "    <tr>\n",
       "      <th>3</th>\n",
       "      <td>160</td>\n",
       "      <td>2018</td>\n",
       "      <td>3</td>\n",
       "      <td>222.000000</td>\n",
       "      <td>274.600006</td>\n",
       "      <td>4.52800</td>\n",
       "      <td>3.181522</td>\n",
       "      <td>red</td>\n",
       "    </tr>\n",
       "    <tr>\n",
       "      <th>4</th>\n",
       "      <td>161</td>\n",
       "      <td>2018</td>\n",
       "      <td>4</td>\n",
       "      <td>274.200012</td>\n",
       "      <td>267.429993</td>\n",
       "      <td>-0.49820</td>\n",
       "      <td>2.737151</td>\n",
       "      <td>red</td>\n",
       "    </tr>\n",
       "  </tbody>\n",
       "</table>\n",
       "</div>"
      ],
      "text/plain": [
       "   index  Year  Week_Number   Open_week  Close_week  mean_return  volatility  \\\n",
       "0    157  2018            0  196.100006  209.990006      2.28200    1.842584   \n",
       "1    158  2018            1  210.020004  221.229996      1.05620    1.388740   \n",
       "2    159  2018            2  224.240006  220.460007     -0.08075    1.290640   \n",
       "3    160  2018            3  222.000000  274.600006      4.52800    3.181522   \n",
       "4    161  2018            4  274.200012  267.429993     -0.49820    2.737151   \n",
       "\n",
       "  Labels  \n",
       "0  green  \n",
       "1  green  \n",
       "2    red  \n",
       "3    red  \n",
       "4    red  "
      ]
     },
     "execution_count": 5,
     "metadata": {},
     "output_type": "execute_result"
    }
   ],
   "source": [
    "NFLX_df_test.head(5)"
   ]
  },
  {
   "cell_type": "code",
   "execution_count": 6,
   "id": "orange-display",
   "metadata": {},
   "outputs": [
    {
     "name": "stdout",
     "output_type": "stream",
     "text": [
      "<class 'pandas.core.frame.DataFrame'>\n",
      "RangeIndex: 157 entries, 0 to 156\n",
      "Data columns (total 8 columns):\n",
      " #   Column       Non-Null Count  Dtype  \n",
      "---  ------       --------------  -----  \n",
      " 0   index        157 non-null    int64  \n",
      " 1   Year         157 non-null    int64  \n",
      " 2   Week_Number  157 non-null    int64  \n",
      " 3   Open_week    157 non-null    float64\n",
      " 4   Close_week   157 non-null    float64\n",
      " 5   mean_return  157 non-null    float64\n",
      " 6   volatility   157 non-null    float64\n",
      " 7   Labels       157 non-null    object \n",
      "dtypes: float64(4), int64(3), object(1)\n",
      "memory usage: 9.9+ KB\n"
     ]
    }
   ],
   "source": [
    "NFLX_df_train.info()"
   ]
  },
  {
   "cell_type": "code",
   "execution_count": 7,
   "id": "incorporated-seafood",
   "metadata": {},
   "outputs": [
    {
     "name": "stdout",
     "output_type": "stream",
     "text": [
      "<class 'pandas.core.frame.DataFrame'>\n",
      "RangeIndex: 106 entries, 0 to 105\n",
      "Data columns (total 8 columns):\n",
      " #   Column       Non-Null Count  Dtype  \n",
      "---  ------       --------------  -----  \n",
      " 0   index        106 non-null    int64  \n",
      " 1   Year         106 non-null    int64  \n",
      " 2   Week_Number  106 non-null    int64  \n",
      " 3   Open_week    106 non-null    float64\n",
      " 4   Close_week   106 non-null    float64\n",
      " 5   mean_return  106 non-null    float64\n",
      " 6   volatility   106 non-null    float64\n",
      " 7   Labels       106 non-null    object \n",
      "dtypes: float64(4), int64(3), object(1)\n",
      "memory usage: 6.8+ KB\n"
     ]
    }
   ],
   "source": [
    "NFLX_df_test.info()"
   ]
  },
  {
   "cell_type": "code",
   "execution_count": 8,
   "id": "outstanding-composer",
   "metadata": {},
   "outputs": [
    {
     "data": {
      "text/plain": [
       "(157, 8)"
      ]
     },
     "execution_count": 8,
     "metadata": {},
     "output_type": "execute_result"
    }
   ],
   "source": [
    "NFLX_df_train.shape"
   ]
  },
  {
   "cell_type": "code",
   "execution_count": 9,
   "id": "motivated-blues",
   "metadata": {},
   "outputs": [
    {
     "data": {
      "text/plain": [
       "(106, 8)"
      ]
     },
     "execution_count": 9,
     "metadata": {},
     "output_type": "execute_result"
    }
   ],
   "source": [
    "NFLX_df_test.shape"
   ]
  },
  {
   "cell_type": "code",
   "execution_count": 10,
   "id": "likely-likelihood",
   "metadata": {},
   "outputs": [],
   "source": [
    "#feature scaling\n",
    "X_train = NFLX_df_train[['mean_return', 'volatility']].values\n",
    "Y_train = NFLX_df_train['Labels'].values\n",
    "scaler = StandardScaler().fit(X_train)\n",
    "X_train = scaler.transform(X_train)\n",
    "\n",
    "X_test = NFLX_df_test[['mean_return', 'volatility']].values\n",
    "Y_test = NFLX_df_test['Labels'].values\n",
    "X_test = scaler.transform(X_test)"
   ]
  },
  {
   "cell_type": "markdown",
   "id": "internal-convention",
   "metadata": {},
   "source": [
    "## KNN"
   ]
  },
  {
   "cell_type": "code",
   "execution_count": 11,
   "id": "failing-aurora",
   "metadata": {},
   "outputs": [
    {
     "name": "stdout",
     "output_type": "stream",
     "text": [
      "Accuracy by KNN(k=3): 0.9811320754716981\n"
     ]
    }
   ],
   "source": [
    "#initiate model\n",
    "knn_classifier = KNeighborsClassifier(n_neighbors=3)\n",
    "knn_classifier.fit(X_train, Y_train)\n",
    "\n",
    "#accuracy\n",
    "accuracy_knn = knn_classifier.score(X_test, Y_test)\n",
    "print('Accuracy by KNN(k=3):', accuracy_knn)"
   ]
  },
  {
   "cell_type": "code",
   "execution_count": 12,
   "id": "covered-equality",
   "metadata": {},
   "outputs": [
    {
     "name": "stdout",
     "output_type": "stream",
     "text": [
      "Confusion Matrix for KNN(k=3):\n",
      " [[47  1]\n",
      " [ 1 57]]\n",
      "True positive rate: 0.9791666666666666\n",
      "True negative rate: 0.9827586206896551\n"
     ]
    }
   ],
   "source": [
    "#predict labels and confusion matrix\n",
    "predicted_knn = knn_classifier.predict(X_test)\n",
    "confusion_matrix_knn = confusion_matrix(Y_test, predicted_knn)\n",
    "TPR_knn = confusion_matrix_knn[0][0]/float(np.sum(confusion_matrix_knn[0, :]))\n",
    "TNR_knn = confusion_matrix_knn[1][1]/float(np.sum(confusion_matrix_knn[1, :]))\n",
    "\n",
    "print('Confusion Matrix for KNN(k=3):\\n', confusion_matrix_knn)\n",
    "print('True positive rate:', TPR_knn)\n",
    "print('True negative rate:', TNR_knn)"
   ]
  },
  {
   "cell_type": "markdown",
   "id": "gorgeous-romania",
   "metadata": {},
   "source": [
    "## Logistic Regression"
   ]
  },
  {
   "cell_type": "code",
   "execution_count": 13,
   "id": "closed-beaver",
   "metadata": {},
   "outputs": [
    {
     "name": "stdout",
     "output_type": "stream",
     "text": [
      "The equation for logistic regression: y = -2.176569371267914 + 1.903141392998164 *x1\n",
      "Accuracy by Logistic Regression: 0.8490566037735849\n"
     ]
    }
   ],
   "source": [
    "#initiate model\n",
    "log_reg_classifier = LogisticRegression()\n",
    "log_reg_classifier.fit(X_train, Y_train)\n",
    "print('The equation for logistic regression: y =', log_reg_classifier.coef_[0][0], '+', log_reg_classifier.coef_[0][1], '*x1')\n",
    "\n",
    "#accuracy\n",
    "accuracy_LR = log_reg_classifier.score(X_test, Y_test)\n",
    "print('Accuracy by Logistic Regression:', accuracy_LR)"
   ]
  },
  {
   "cell_type": "code",
   "execution_count": 14,
   "id": "voluntary-smoke",
   "metadata": {},
   "outputs": [
    {
     "name": "stdout",
     "output_type": "stream",
     "text": [
      "Confusion Matrix for Logistic Regression:\n",
      " [[47  1]\n",
      " [ 1 57]]\n",
      "True positive rate: 0.9791666666666666\n",
      "True negative rate: 0.9827586206896551\n"
     ]
    }
   ],
   "source": [
    "#predict labels and confusion matrix\n",
    "predicted_LR = knn_classifier.predict(X_test)\n",
    "confusion_matrix_LR = confusion_matrix(Y_test, predicted_LR)\n",
    "TPR_LR = confusion_matrix_LR[0][0]/float(np.sum(confusion_matrix_LR[0, :]))\n",
    "TNR_LR = confusion_matrix_LR[1][1]/float(np.sum(confusion_matrix_LR[1, :]))\n",
    "\n",
    "print('Confusion Matrix for Logistic Regression:\\n', confusion_matrix_LR)\n",
    "print('True positive rate:', TPR_LR)\n",
    "print('True negative rate:', TNR_LR)"
   ]
  },
  {
   "cell_type": "markdown",
   "id": "broke-rescue",
   "metadata": {},
   "source": [
    "## Naive Bayesian"
   ]
  },
  {
   "cell_type": "code",
   "execution_count": 15,
   "id": "listed-filename",
   "metadata": {},
   "outputs": [
    {
     "name": "stdout",
     "output_type": "stream",
     "text": [
      "Accuracy by Naive Bayesian: 0.8490566037735849\n"
     ]
    }
   ],
   "source": [
    "NB_classifier = GaussianNB().fit(X_train, Y_train)\n",
    "\n",
    "accuracy_NB = NB_classifier.score(X_test, Y_test)\n",
    "print('Accuracy by Naive Bayesian:', accuracy_NB)"
   ]
  },
  {
   "cell_type": "code",
   "execution_count": 16,
   "id": "sixth-sampling",
   "metadata": {},
   "outputs": [
    {
     "name": "stdout",
     "output_type": "stream",
     "text": [
      "Confusion Matrix for Naive Bayesian:\n",
      " [[47  1]\n",
      " [ 1 57]]\n",
      "True positive rate: 0.9791666666666666\n",
      "True negative rate: 0.9827586206896551\n"
     ]
    }
   ],
   "source": [
    "#predict labels and confusion matrix\n",
    "predicted_NB = knn_classifier.predict(X_test)\n",
    "confusion_matrix_NB = confusion_matrix(Y_test, predicted_NB)\n",
    "TPR_NB = confusion_matrix_NB[0][0]/float(np.sum(confusion_matrix_NB[0, :]))\n",
    "TNR_NB = confusion_matrix_NB[1][1]/float(np.sum(confusion_matrix_NB[1, :]))\n",
    "\n",
    "print('Confusion Matrix for Naive Bayesian:\\n', confusion_matrix_NB)\n",
    "print('True positive rate:', TPR_NB)\n",
    "print('True negative rate:', TNR_NB)"
   ]
  },
  {
   "cell_type": "markdown",
   "id": "fantastic-nowhere",
   "metadata": {},
   "source": [
    "## Decision Tree"
   ]
  },
  {
   "cell_type": "code",
   "execution_count": 17,
   "id": "reverse-mitchell",
   "metadata": {},
   "outputs": [
    {
     "name": "stdout",
     "output_type": "stream",
     "text": [
      "Accuracy by Decision Tree: 1.0\n"
     ]
    }
   ],
   "source": [
    "tree_classifier = tree.DecisionTreeClassifier(criterion = 'entropy')\n",
    "tree_classifier = tree_classifier.fit(X_train, Y_train)\n",
    "\n",
    "accuracy_tree = tree_classifier.score(X_test, Y_test)\n",
    "print('Accuracy by Decision Tree:', accuracy_tree)"
   ]
  },
  {
   "cell_type": "code",
   "execution_count": 18,
   "id": "obvious-psychology",
   "metadata": {},
   "outputs": [
    {
     "name": "stdout",
     "output_type": "stream",
     "text": [
      "Confusion Matrix for Decision Tree:\n",
      " [[47  1]\n",
      " [ 1 57]]\n",
      "True positive rate: 0.9791666666666666\n",
      "True negative rate: 0.9827586206896551\n"
     ]
    }
   ],
   "source": [
    "#predict labels and confusion matrix\n",
    "predicted_tree = knn_classifier.predict(X_test)\n",
    "confusion_matrix_tree = confusion_matrix(Y_test, predicted_tree)\n",
    "TPR_tree = confusion_matrix_tree[0][0]/float(np.sum(confusion_matrix_tree[0, :]))\n",
    "TNR_tree = confusion_matrix_tree[1][1]/float(np.sum(confusion_matrix_tree[1, :]))\n",
    "\n",
    "print('Confusion Matrix for Decision Tree:\\n', confusion_matrix_tree)\n",
    "print('True positive rate:', TPR_tree)\n",
    "print('True negative rate:', TNR_tree)"
   ]
  },
  {
   "cell_type": "markdown",
   "id": "cubic-idaho",
   "metadata": {},
   "source": [
    "## Random Forest"
   ]
  },
  {
   "cell_type": "code",
   "execution_count": 19,
   "id": "israeli-preliminary",
   "metadata": {},
   "outputs": [
    {
     "name": "stdout",
     "output_type": "stream",
     "text": [
      "Accuracy by Random Forest: 1.0\n"
     ]
    }
   ],
   "source": [
    "RF_classifier = RandomForestClassifier(n_estimators=6, max_depth=5, criterion='entropy')\n",
    "RF_classifier.fit(X_train, Y_train)\n",
    "\n",
    "accuracy_RF = RF_classifier.score(X_test, Y_test)\n",
    "print('Accuracy by Random Forest:', accuracy_RF)"
   ]
  },
  {
   "cell_type": "code",
   "execution_count": 20,
   "id": "minus-current",
   "metadata": {},
   "outputs": [
    {
     "name": "stdout",
     "output_type": "stream",
     "text": [
      "Confusion Matrix for Random Forest:\n",
      " [[47  1]\n",
      " [ 1 57]]\n",
      "True positive rate: 0.9791666666666666\n",
      "True negative rate: 0.9827586206896551\n"
     ]
    }
   ],
   "source": [
    "#predict labels and confusion matrix\n",
    "predicted_RF = knn_classifier.predict(X_test)\n",
    "confusion_matrix_RF = confusion_matrix(Y_test, predicted_RF)\n",
    "TPR_RF = confusion_matrix_RF[0][0]/float(np.sum(confusion_matrix_RF[0, :]))\n",
    "TNR_RF = confusion_matrix_RF[1][1]/float(np.sum(confusion_matrix_RF[1, :]))\n",
    "\n",
    "print('Confusion Matrix for Random Forest:\\n', confusion_matrix_RF)\n",
    "print('True positive rate:', TPR_RF)\n",
    "print('True negative rate:', TNR_RF)"
   ]
  },
  {
   "cell_type": "code",
   "execution_count": null,
   "id": "parallel-radius",
   "metadata": {},
   "outputs": [],
   "source": []
  }
 ],
 "metadata": {
  "kernelspec": {
   "display_name": "Python 3",
   "language": "python",
   "name": "python3"
  },
  "language_info": {
   "codemirror_mode": {
    "name": "ipython",
    "version": 3
   },
   "file_extension": ".py",
   "mimetype": "text/x-python",
   "name": "python",
   "nbconvert_exporter": "python",
   "pygments_lexer": "ipython3",
   "version": "3.6.4"
  }
 },
 "nbformat": 4,
 "nbformat_minor": 5
}
